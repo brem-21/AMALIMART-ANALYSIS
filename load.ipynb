{
 "cells": [
  {
   "cell_type": "code",
   "execution_count": 1,
   "id": "a238e3dc",
   "metadata": {},
   "outputs": [],
   "source": [
    "import pandas as pd\n",
    "from sqlalchemy import create_engine, text\n",
    "import urllib\n",
    "import os"
   ]
  },
  {
   "cell_type": "code",
   "execution_count": 2,
   "id": "e1714061",
   "metadata": {},
   "outputs": [],
   "source": [
    "        \n",
    "RDS_HOST   = os.getenv(\"SQL_SERVER_HOST\")\n",
    "RDS_PORT   = int(os.getenv(\"SQL_SERVER_PORT\"))\n",
    "RDS_DB     = os.getenv(\"SQL_SERVER_DATABASE\")\n",
    "RDS_USER   = os.getenv(\"SQL_SERVER_USER\")\n",
    "RDS_PASS   = urllib.parse.quote_plus(os.getenv(\"SQL_SERVER_PASSWORD\"))"
   ]
  },
  {
   "cell_type": "code",
   "execution_count": 3,
   "id": "6b779852",
   "metadata": {},
   "outputs": [],
   "source": [
    "connection_string = urllib.parse.quote_plus(\n",
    "    f\"DRIVER={{ODBC Driver 17 for SQL Server}};\"\n",
    "    f\"SERVER={RDS_HOST},{RDS_PORT};\"\n",
    "    f\"DATABASE={RDS_DB};\"\n",
    "    f\"UID={RDS_USER};PWD={RDS_PASS};\"\n",
    "    f\"TrustServerCertificate=yes;\"\n",
    ")\n",
    "\n",
    "engine = create_engine(\n",
    "    f\"mysql+mysqlconnector://{RDS_USER}:{RDS_PASS}@{RDS_HOST}:{RDS_PORT}/{RDS_DB}\"\n",
    ")"
   ]
  },
  {
   "cell_type": "code",
   "execution_count": 4,
   "id": "1705fba7",
   "metadata": {},
   "outputs": [
    {
     "name": "stdout",
     "output_type": "stream",
     "text": [
      "✅ All tables dropped successfully!\n"
     ]
    }
   ],
   "source": [
    "\n",
    "with engine.begin() as conn:\n",
    "    # Temporarily disable foreign key checks\n",
    "    conn.execute(text(\"SET foreign_key_checks = 0\"))\n",
    "\n",
    "    result = conn.execute(text(\"SHOW FULL TABLES WHERE Table_type = 'BASE TABLE'\"))\n",
    "    tables = result.fetchall()\n",
    "\n",
    "    for table in tables:\n",
    "        table_name = table[0]\n",
    "        print(f\"Dropping table: {table_name}\")\n",
    "        conn.execute(text(f\"DROP TABLE `{table_name}`\"))\n",
    "\n",
    "    # Re-enable foreign key checks\n",
    "    conn.execute(text(\"SET foreign_key_checks = 1\"))\n",
    "\n",
    "print(\"✅ All tables dropped successfully!\")"
   ]
  },
  {
   "cell_type": "code",
   "execution_count": 5,
   "id": "377be81f",
   "metadata": {},
   "outputs": [
    {
     "name": "stdout",
     "output_type": "stream",
     "text": [
      "Loaded order_items.csv → order_items\n",
      "Loaded orders.csv → orders\n",
      "Loaded product_variants.csv → product_variants\n",
      "Loaded user_audit.csv → user_audit\n",
      "Loaded support_messages.csv → support_messages\n",
      "Loaded wishlist_items.csv → wishlist_items\n",
      "Loaded products.csv → products\n",
      "Loaded cities.csv → cities\n",
      "Loaded business_representatives.csv → business_representatives\n",
      "Loaded cart_items.csv → cart_items\n",
      "Loaded stores.csv → stores\n",
      "Loaded payments.csv → payments\n",
      "Loaded order_status_history.csv → order_status_history\n",
      "Loaded discounts.csv → discounts\n",
      "Loaded product_tags.csv → product_tags\n",
      "Loaded returns.csv → returns\n",
      "Loaded carts.csv → carts\n",
      "Loaded messages.csv → messages\n",
      "Loaded wishlists.csv → wishlists\n",
      "Loaded reviews.csv → reviews\n",
      "Loaded shipping_info.csv → shipping_info\n",
      "Loaded businesses.csv → businesses\n",
      "Loaded tags.csv → tags\n",
      "Loaded vendor_applications.csv → vendor_applications\n",
      "Loaded support_tickets.csv → support_tickets\n",
      "Loaded users.csv → users\n",
      "Loaded address.csv → address\n",
      "Loaded categories.csv → categories\n",
      "Loaded product_images.csv → product_images\n"
     ]
    }
   ],
   "source": [
    "from pathlib import Path          # ← you were missing this\n",
    "import pandas as pd\n",
    "from sqlalchemy import create_engine\n",
    "\n",
    "def load_folder(folder_path: str, engine) -> None:\n",
    "    \"\"\"\n",
    "    Load every CSV or Excel file in *folder_path* into the database.\n",
    "    Table name = file name (without extension). Existing tables are replaced.\n",
    "    \"\"\"\n",
    "    for file in Path(folder_path).iterdir():\n",
    "        if file.suffix.lower() not in {\".csv\", \".xlsx\"}:\n",
    "            continue  # skip everything else\n",
    "\n",
    "        table = file.stem.lower()                 # simple table name\n",
    "        df = pd.read_csv(file) if file.suffix == \".csv\" else pd.read_excel(file)\n",
    "\n",
    "        df.head(0).to_sql(table, engine, if_exists=\"replace\", index=False)\n",
    "        df.to_sql(table, engine, if_exists=\"append\",  index=False, method=\"multi\", chunksize=1000)\n",
    "\n",
    "        print(f\"Loaded {file.name} → {table}\")\n",
    "\n",
    "# -------------- minimal demo --------------\n",
    "if __name__ == \"__main__\":\n",
    "\n",
    "    # call the helper\n",
    "    load_folder(\"./data\", engine)\n"
   ]
  },
  {
   "cell_type": "code",
   "execution_count": null,
   "id": "afe58b2f",
   "metadata": {},
   "outputs": [],
   "source": []
  }
 ],
 "metadata": {
  "kernelspec": {
   "display_name": "venv",
   "language": "python",
   "name": "python3"
  },
  "language_info": {
   "codemirror_mode": {
    "name": "ipython",
    "version": 3
   },
   "file_extension": ".py",
   "mimetype": "text/x-python",
   "name": "python",
   "nbconvert_exporter": "python",
   "pygments_lexer": "ipython3",
   "version": "3.12.3"
  }
 },
 "nbformat": 4,
 "nbformat_minor": 5
}
