{
 "cells": [
  {
   "cell_type": "code",
   "execution_count": 1,
   "id": "a238e3dc",
   "metadata": {},
   "outputs": [],
   "source": [
    "import pandas as pd\n",
    "from sqlalchemy import create_engine, text\n",
    "import urllib\n",
    "import os\n",
    "import random\n",
    "from datetime import datetime, timedelta"
   ]
  },
  {
   "cell_type": "code",
   "execution_count": 2,
   "id": "e1714061",
   "metadata": {},
   "outputs": [],
   "source": [
    "        \n",
    "RDS_HOST   = os.getenv(\"SQL_SERVER_HOST\")\n",
    "RDS_PORT   = int(os.getenv(\"SQL_SERVER_PORT\"))\n",
    "RDS_DB     = os.getenv(\"SQL_SERVER_DATABASE\")\n",
    "RDS_USER   = os.getenv(\"SQL_SERVER_USER\")\n",
    "RDS_PASS   = urllib.parse.quote_plus(os.getenv(\"SQL_SERVER_PASSWORD\"))"
   ]
  },
  {
   "cell_type": "code",
   "execution_count": 3,
   "id": "6b779852",
   "metadata": {},
   "outputs": [],
   "source": [
    "connection_string = urllib.parse.quote_plus(\n",
    "    f\"DRIVER={{ODBC Driver 17 for SQL Server}};\"\n",
    "    f\"SERVER={RDS_HOST},{RDS_PORT};\"\n",
    "    f\"DATABASE={RDS_DB};\"\n",
    "    f\"UID={RDS_USER};PWD={RDS_PASS};\"\n",
    "    f\"TrustServerCertificate=yes;\"\n",
    ")\n",
    "\n",
    "engine = create_engine(\n",
    "    f\"mysql+mysqlconnector://{RDS_USER}:{RDS_PASS}@{RDS_HOST}:{RDS_PORT}/{RDS_DB}\"\n",
    ")"
   ]
  },
  {
   "cell_type": "code",
   "execution_count": 4,
   "id": "718b3795",
   "metadata": {},
   "outputs": [],
   "source": [
    "def random_date(start_year=2023, end_year=2025):\n",
    "    start = datetime(start_year, 1, 1)\n",
    "    end = datetime(end_year, 1, 1)\n",
    "    return start + (end - start) * random.random()"
   ]
  },
  {
   "cell_type": "code",
   "execution_count": 5,
   "id": "1a9e9130",
   "metadata": {},
   "outputs": [],
   "source": [
    "base_product_names = [\n",
    "    \"Samsung Galaxy A14 Smartphone\", \"Apple iPhone 13 Pro\", \"HP Pavilion 15 Laptop\",\n",
    "    \"Lenovo IdeaPad 3 Notebook\", \"Sony WH-1000XM4 Headphones\", \"Anker PowerCore Power Bank\",\n",
    "    \"Mi Smart Band 7\", \"Amazon Echo Dot\", \"Philips Air Fryer XXL\", \"LG 55-Inch Smart TV\",\n",
    "    \"Nike Air Max 270\", \"Adidas Ultraboost\", \"Under Armour Gym T-Shirt\", \"Zara Casual Shirt\",\n",
    "    \"Nivea Body Lotion\", \"Maybelline Foundation\", \"L'Oreal Paris Shampoo\", \"Dove Body Wash\",\n",
    "    \"Olay Night Cream\", \"Always Ultra Pads\", \"Organic Honey\", \"Sunlight Washing Powder\",\n",
    "    \"Kellogg’s Corn Flakes\", \"Nestle Milo\", \"Dettol Soap\", \"Oral-B Electric Toothbrush\",\n",
    "    \"Harry Potter Book\", \"Atomic Habits Book\", \"Rich Dad Poor Dad\", \"The Lean Startup\",\n",
    "    \"JBL Bluetooth Speaker\", \"Panasonic Hair Dryer\", \"Fitbit Charge 5\", \"Apple AirPods Pro\",\n",
    "    \"Kindle Paperwhite\", \"Canon DSLR Camera\", \"Tefal Cookware Set\", \"Bosch Cordless Drill\",\n",
    "    \"UNO Card Game\", \"LEGO Star Wars Set\", \"Barbie Dreamhouse\", \"Huggies Diapers\",\n",
    "    \"Nestlé NAN Formula\", \"Instant Pot 7-in-1\", \"Samsung Galaxy Watch\", \"Asus Gaming Monitor\",\n",
    "    \"Western Digital HDD\", \"SanDisk USB Flash\", \"Seagate External Drive\", \"TP-Link Range Extender\",\n",
    "    \"Samsung Galaxy S22 Ultra\", \"Apple MacBook Air M2\", \"HP Envy x360 Laptop\",\n",
    "    \"Dell XPS 13\", \"Logitech MX Master 3 Mouse\", \"Razer BlackWidow Keyboard\",\n",
    "    \"ASUS ROG Strix GPU\", \"MSI Gaming Laptop\", \"Apple iPad Pro\", \"Xiaomi Pad 5\",\n",
    "    \"GoPro Hero11\", \"DJI Mini 3 Drone\", \"Samsung T7 SSD\", \"Canon PIXMA Printer\",\n",
    "    \"Bose QuietComfort Earbuds\", \"OnePlus Nord CE 3 Lite\", \"Realme C55\", \"Nokia G21\",\n",
    "    \"Sony Alpha a6400 Camera\", \"Fujifilm Instax Mini\", \"Garmin Forerunner Watch\",\n",
    "    \"Amazfit Bip U Pro\", \"JBL Charge 5 Speaker\", \"Baseus Car Charger\",\n",
    "    \"Levi's 501 Original Jeans\", \"Tommy Hilfiger Polo Shirt\", \"Gucci Sunglasses\",\n",
    "    \"Ray-Ban Aviator\", \"Puma Running Shorts\", \"Reebok Sports Bra\", \"H&M Cotton Hoodie\",\n",
    "    \"Fila Disruptor Sneakers\", \"Crocs Classic Clog\", \"Timberland Boots\",\n",
    "    \"New Balance 574\", \"Vans Old Skool\", \"Converse Chuck Taylor\",\n",
    "    \"Columbia Rain Jacket\", \"North Face Backpack\", \"Under Armour Joggers\",\n",
    "    \"Zara Leather Belt\", \"Boss Cotton Socks\", \"Hermes Silk Scarf\",\n",
    "    \"Michael Kors Handbag\", \"Adidas Bucket Hat\", \"Nike Dri-FIT Shorts\",\n",
    "    \"Champion Crewneck Sweatshirt\", \"GAP Logo T-shirt\", \"Shein Floral Dress\",\n",
    "    \"The Ordinary Niacinamide Serum\", \"CeraVe Moisturizing Cream\",\n",
    "    \"Neutrogena Hydro Boost Gel\", \"Cetaphil Gentle Cleanser\", \"Garnier Micellar Water\",\n",
    "    \"MAC Matte Lipstick\", \"Fenty Beauty Highlighter\", \"Revlon Hair Dryer Brush\",\n",
    "    \"Gillette Fusion Razor\", \"Braun Beard Trimmer\", \"Philips Sonicare Toothbrush\",\n",
    "    \"TRESemmé Keratin Shampoo\", \"Head & Shoulders Anti-Dandruff\", \"Aveeno Daily Lotion\",\n",
    "    \"Olay Vitamin C Serum\", \"Simple Micellar Wipes\", \"L'Oréal Revitalift Night Cream\",\n",
    "    \"Dove Exfoliating Body Polish\", \"Maybelline Sky High Mascara\",\n",
    "    \"Nivea Soft Face Cream\", \"Biore Nose Strips\", \"Burt’s Bees Lip Balm\",\n",
    "    \"Instant Pot Pro 10-in-1\", \"Ninja Air Fryer XL\", \"Dyson V15 Vacuum Cleaner\",\n",
    "    \"iRobot Roomba i7\", \"KitchenAid Stand Mixer\", \"Crockpot Slow Cooker\",\n",
    "    \"Philips Blender\", \"Tefal Steam Iron\", \"Black+Decker Toaster Oven\",\n",
    "    \"Russell Hobbs Kettle\", \"Hamilton Beach Juicer\", \"Brita Water Filter\",\n",
    "    \"LG Smart Fridge\", \"Samsung Front Load Washer\", \"Bosch Dishwasher\",\n",
    "    \"IKEA Poang Chair\", \"Herman Miller Office Chair\", \"Sealy Memory Foam Mattress\",\n",
    "    \"Sleep Innovations Pillow\", \"Yankee Candle Set\", \"Simplehuman Trash Can\",\n",
    "    \"Utopia Bedding Comforter\", \"Etekcity Digital Scale\", \"Glade Room Spray\",\n",
    "    \"Think and Grow Rich\", \"The Alchemist by Paulo Coelho\", \"Deep Work by Cal Newport\",\n",
    "    \"Start With Why by Simon Sinek\", \"The Subtle Art of Not Giving a F*ck\",\n",
    "    \"12 Rules for Life by Jordan Peterson\", \"The Psychology of Money\",\n",
    "    \"Good to Great by Jim Collins\", \"Notebook Hardcover A5\", \"Parker Ballpoint Pen\",\n",
    "    \"Staedtler Pencil Set\", \"Faber-Castell Marker Pack\", \"Casio Scientific Calculator\",\n",
    "    \"Oxford Advanced Learner’s Dictionary\", \"2025 Daily Planner\", \"Sticky Notes Pack\",\n",
    "    \"Maped Geometry Set\", \"HP Printer Paper\", \"Canon Ink Cartridge\",\n",
    "    \"3M Scotch Tape Dispenser\", \"Avery Label Sheets\"\n",
    "]"
   ]
  },
  {
   "cell_type": "code",
   "execution_count": 6,
   "id": "6f8fd3f7",
   "metadata": {},
   "outputs": [
    {
     "ename": "KeyboardInterrupt",
     "evalue": "",
     "output_type": "error",
     "traceback": [
      "\u001b[31m---------------------------------------------------------------------------\u001b[39m",
      "\u001b[31mKeyboardInterrupt\u001b[39m                         Traceback (most recent call last)",
      "\u001b[36mCell\u001b[39m\u001b[36m \u001b[39m\u001b[32mIn[6]\u001b[39m\u001b[32m, line 2\u001b[39m\n\u001b[32m      1\u001b[39m product_names = []\n\u001b[32m----> \u001b[39m\u001b[32m2\u001b[39m \u001b[38;5;28;01mwhile\u001b[39;00m \u001b[38;5;28mlen\u001b[39m(product_names) < \u001b[32m500\u001b[39m:\n\u001b[32m      3\u001b[39m     base = random.choice(base_product_names)\n\u001b[32m      4\u001b[39m     \u001b[38;5;28;01mif\u001b[39;00m base \u001b[38;5;129;01mnot\u001b[39;00m \u001b[38;5;129;01min\u001b[39;00m product_names:\n",
      "\u001b[31mKeyboardInterrupt\u001b[39m: "
     ]
    }
   ],
   "source": [
    "product_names = []\n",
    "while len(product_names) < 500:\n",
    "    base = random.choice(base_product_names)\n",
    "    if base not in product_names:\n",
    "        product_names.append(base)"
   ]
  },
  {
   "cell_type": "code",
   "execution_count": 5,
   "id": "1705fba7",
   "metadata": {},
   "outputs": [
    {
     "name": "stdout",
     "output_type": "stream",
     "text": [
      "Dropping table: address\n",
      "Dropping table: business_representatives\n",
      "Dropping table: businesses\n",
      "Dropping table: cart_items\n",
      "Dropping table: carts\n",
      "Dropping table: categories\n",
      "Dropping table: cities\n",
      "Dropping table: discounts\n",
      "Dropping table: messages\n",
      "Dropping table: order_items\n",
      "Dropping table: order_status_history\n",
      "Dropping table: orders\n",
      "Dropping table: payments\n",
      "Dropping table: product_images\n",
      "Dropping table: product_tags\n",
      "Dropping table: product_variants\n",
      "Dropping table: products\n",
      "Dropping table: realistic_ecommerce_data_updated\n",
      "Dropping table: returns\n",
      "Dropping table: reviews\n",
      "Dropping table: shipping_info\n",
      "Dropping table: stores\n",
      "Dropping table: support_messages\n",
      "Dropping table: support_tickets\n",
      "Dropping table: tags\n",
      "Dropping table: user_audit\n",
      "Dropping table: users\n",
      "Dropping table: vendor_applications\n",
      "Dropping table: wishlist_items\n",
      "Dropping table: wishlists\n",
      "✅ All tables dropped successfully!\n"
     ]
    }
   ],
   "source": [
    "\n",
    "with engine.begin() as conn:\n",
    "    # Temporarily disable foreign key checks\n",
    "    conn.execute(text(\"SET foreign_key_checks = 0\"))\n",
    "\n",
    "    result = conn.execute(text(\"SHOW FULL TABLES WHERE Table_type = 'BASE TABLE'\"))\n",
    "    tables = result.fetchall()\n",
    "\n",
    "    for table in tables:\n",
    "        table_name = table[0]\n",
    "        print(f\"Dropping table: {table_name}\")\n",
    "        conn.execute(text(f\"DROP TABLE `{table_name}`\"))\n",
    "\n",
    "    # Re-enable foreign key checks\n",
    "    conn.execute(text(\"SET foreign_key_checks = 1\"))\n",
    "\n",
    "print(\"✅ All tables dropped successfully!\")"
   ]
  },
  {
   "cell_type": "code",
   "execution_count": 6,
   "id": "377be81f",
   "metadata": {},
   "outputs": [
    {
     "name": "stdout",
     "output_type": "stream",
     "text": [
      "Loaded order_items.csv → order_items\n",
      "Loaded orders.csv → orders\n",
      "Loaded product_variants.csv → product_variants\n",
      "Loaded user_audit.csv → user_audit\n",
      "Loaded support_messages.csv → support_messages\n",
      "Loaded wishlist_items.csv → wishlist_items\n",
      "Loaded products.csv → products\n",
      "Loaded cities.csv → cities\n",
      "Loaded business_representatives.csv → business_representatives\n",
      "Loaded cart_items.csv → cart_items\n",
      "Loaded stores.csv → stores\n",
      "Loaded payments.csv → payments\n",
      "Loaded order_status_history.csv → order_status_history\n",
      "Loaded discounts.csv → discounts\n",
      "Loaded product_tags.csv → product_tags\n",
      "Loaded returns.csv → returns\n",
      "Loaded carts.csv → carts\n",
      "Loaded messages.csv → messages\n",
      "Loaded wishlists.csv → wishlists\n",
      "Loaded reviews.csv → reviews\n",
      "Loaded shipping_info.csv → shipping_info\n",
      "Loaded businesses.csv → businesses\n",
      "Loaded addresses.csv → addresses\n",
      "Loaded tags.csv → tags\n",
      "Loaded vendor_applications.csv → vendor_applications\n",
      "Loaded support_tickets.csv → support_tickets\n",
      "Loaded users.csv → users\n",
      "Loaded address.csv → address\n",
      "Loaded categories.csv → categories\n",
      "Loaded product_images.csv → product_images\n"
     ]
    }
   ],
   "source": [
    "from pathlib import Path          # ← you were missing this\n",
    "import pandas as pd\n",
    "from sqlalchemy import create_engine\n",
    "\n",
    "def load_folder(folder_path: str, engine) -> None:\n",
    "    \"\"\"\n",
    "    Load every CSV or Excel file in *folder_path* into the database.\n",
    "    Table name = file name (without extension). Existing tables are replaced.\n",
    "    \"\"\"\n",
    "    for file in Path(folder_path).iterdir():\n",
    "        if file.suffix.lower() not in {\".csv\", \".xlsx\"}:\n",
    "            continue  # skip everything else\n",
    "\n",
    "        table = file.stem.lower()                 # simple table name\n",
    "        df = pd.read_csv(file) if file.suffix == \".csv\" else pd.read_excel(file)\n",
    "\n",
    "        df.head(0).to_sql(table, engine, if_exists=\"replace\", index=False)\n",
    "        df.to_sql(table, engine, if_exists=\"append\",  index=False, method=\"multi\", chunksize=1000)\n",
    "\n",
    "        print(f\"Loaded {file.name} → {table}\")\n",
    "\n",
    "# -------------- minimal demo --------------\n",
    "if __name__ == \"__main__\":\n",
    "\n",
    "    # call the helper\n",
    "    load_folder(\"./data\", engine)\n"
   ]
  },
  {
   "cell_type": "code",
   "execution_count": null,
   "id": "afe58b2f",
   "metadata": {},
   "outputs": [],
   "source": []
  }
 ],
 "metadata": {
  "kernelspec": {
   "display_name": "venv",
   "language": "python",
   "name": "python3"
  },
  "language_info": {
   "codemirror_mode": {
    "name": "ipython",
    "version": 3
   },
   "file_extension": ".py",
   "mimetype": "text/x-python",
   "name": "python",
   "nbconvert_exporter": "python",
   "pygments_lexer": "ipython3",
   "version": "3.12.3"
  }
 },
 "nbformat": 4,
 "nbformat_minor": 5
}
